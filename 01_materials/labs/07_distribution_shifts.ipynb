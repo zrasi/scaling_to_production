{
 "cells": [
  {
   "cell_type": "markdown",
   "metadata": {},
   "source": [
    "# Distribution Shifts\n",
    "\n",
    "+ Consider our stock data. \n",
    "+ We are interested in testing changes in return distribution for our sample data around the time of the onset of the COVID 19 pandemic."
   ]
  },
  {
   "cell_type": "code",
   "execution_count": 1,
   "metadata": {},
   "outputs": [
    {
     "ename": "ModuleNotFoundError",
     "evalue": "No module named 'logger'",
     "output_type": "error",
     "traceback": [
      "\u001b[1;31m---------------------------------------------------------------------------\u001b[0m",
      "\u001b[1;31mModuleNotFoundError\u001b[0m                       Traceback (most recent call last)",
      "Cell \u001b[1;32mIn[1], line 5\u001b[0m\n\u001b[0;32m      3\u001b[0m \u001b[38;5;28;01mimport\u001b[39;00m \u001b[38;5;21;01msys\u001b[39;00m\n\u001b[0;32m      4\u001b[0m sys\u001b[38;5;241m.\u001b[39mpath\u001b[38;5;241m.\u001b[39mappend(\u001b[38;5;124m\"\u001b[39m\u001b[38;5;124m../05_src\u001b[39m\u001b[38;5;124m\"\u001b[39m)\n\u001b[1;32m----> 5\u001b[0m \u001b[38;5;28;01mfrom\u001b[39;00m \u001b[38;5;21;01mlogger\u001b[39;00m \u001b[38;5;28;01mimport\u001b[39;00m get_logger\n\u001b[0;32m      6\u001b[0m _logs \u001b[38;5;241m=\u001b[39m get_logger(\u001b[38;5;18m__name__\u001b[39m)\n",
      "\u001b[1;31mModuleNotFoundError\u001b[0m: No module named 'logger'"
     ]
    }
   ],
   "source": [
    "%load_ext dotenv\n",
    "%dotenv ../../05_src/.env\n",
    "import sys\n",
    "sys.path.append(\"../05_src\")\n",
    "from logger import get_logger\n",
    "_logs = get_logger(__name__)"
   ]
  },
  {
   "cell_type": "code",
   "execution_count": 2,
   "metadata": {},
   "outputs": [],
   "source": [
    "import dask\n",
    "dask.config.set({'dataframe.query-planning': True})\n",
    "import dask.dataframe as dd\n",
    "import pandas as pd\n",
    "import numpy as np\n",
    "import os\n",
    "from glob import glob"
   ]
  },
  {
   "cell_type": "code",
   "execution_count": 3,
   "metadata": {},
   "outputs": [],
   "source": [
    "ft_dir = os.getenv(\"FEATURES_DATA\")\n",
    "ft_glob = glob(ft_dir+'/*.parquet')\n",
    "df = dd.read_parquet(ft_glob).compute().reset_index()"
   ]
  },
  {
   "cell_type": "markdown",
   "metadata": {},
   "source": [
    "## Data Preparation\n",
    "\n",
    "+ First, prepare four datasets, each with returns between March of a given year and March of the following year.\n",
    "+ For each data set, we can compute some descriptive statistics.\n",
    "+ We observe that there may be some distribution changes."
   ]
  },
  {
   "cell_type": "code",
   "execution_count": 4,
   "metadata": {},
   "outputs": [],
   "source": [
    "df_2018 = df[(df['Date'] >= '2018-03-01') & (df['Date']  < '2019-03-01')]\n",
    "df_2019 = df[(df['Date'] >= '2019-03-01') & (df['Date']  < '2020-03-01')]\n",
    "df_2020 = df[(df['Date'] >= '2020-03-01') & (df['Date']  < '2021-03-01')]\n",
    "df_2021 = df[(df['Date'] >= '2021-03-01') & (df['Date']  < '2022-03-01')]\n",
    "df_2022 = df[(df['Date'] >= '2022-03-01') & (df['Date']  < '2023-03-01')]"
   ]
  },
  {
   "cell_type": "code",
   "execution_count": 5,
   "metadata": {},
   "outputs": [
    {
     "data": {
      "text/plain": [
       "count    2257.000000\n",
       "mean        0.008123\n",
       "std         0.185545\n",
       "min        -0.340990\n",
       "25%        -0.007949\n",
       "50%         0.001295\n",
       "75%         0.009771\n",
       "max         6.441369\n",
       "Name: returns, dtype: float64"
      ]
     },
     "execution_count": 5,
     "metadata": {},
     "output_type": "execute_result"
    }
   ],
   "source": [
    "df_2018['returns'].describe()"
   ]
  },
  {
   "cell_type": "code",
   "execution_count": 6,
   "metadata": {},
   "outputs": [
    {
     "data": {
      "text/plain": [
       "count    2267.000000\n",
       "mean        0.007072\n",
       "std         0.216974\n",
       "min        -0.303547\n",
       "25%        -0.007273\n",
       "50%         0.001091\n",
       "75%         0.008462\n",
       "max         9.660822\n",
       "Name: returns, dtype: float64"
      ]
     },
     "execution_count": 6,
     "metadata": {},
     "output_type": "execute_result"
    }
   ],
   "source": [
    "df_2019['returns'].describe()"
   ]
  },
  {
   "cell_type": "code",
   "execution_count": 7,
   "metadata": {},
   "outputs": [
    {
     "data": {
      "text/plain": [
       "count    2259.000000\n",
       "mean        0.009681\n",
       "std         0.177753\n",
       "min        -0.345949\n",
       "25%        -0.010707\n",
       "50%         0.002011\n",
       "75%         0.014895\n",
       "max         5.675929\n",
       "Name: returns, dtype: float64"
      ]
     },
     "execution_count": 7,
     "metadata": {},
     "output_type": "execute_result"
    }
   ],
   "source": [
    "df_2020['returns'].describe()"
   ]
  },
  {
   "cell_type": "code",
   "execution_count": 8,
   "metadata": {},
   "outputs": [
    {
     "data": {
      "text/plain": [
       "count    2277.000000\n",
       "mean        0.034039\n",
       "std         1.116057\n",
       "min        -0.101915\n",
       "25%        -0.007290\n",
       "50%         0.001064\n",
       "75%         0.009198\n",
       "max        51.348436\n",
       "Name: returns, dtype: float64"
      ]
     },
     "execution_count": 8,
     "metadata": {},
     "output_type": "execute_result"
    }
   ],
   "source": [
    "df_2021['returns'].describe()"
   ]
  },
  {
   "cell_type": "code",
   "execution_count": 9,
   "metadata": {},
   "outputs": [
    {
     "data": {
      "text/plain": [
       "count    2259.000000\n",
       "mean        0.016357\n",
       "std         0.510301\n",
       "min        -0.167932\n",
       "25%        -0.012159\n",
       "50%        -0.000541\n",
       "75%         0.011908\n",
       "max        22.977526\n",
       "Name: returns, dtype: float64"
      ]
     },
     "execution_count": 9,
     "metadata": {},
     "output_type": "execute_result"
    }
   ],
   "source": [
    "df_2022['returns'].describe()"
   ]
  },
  {
   "cell_type": "markdown",
   "metadata": {},
   "source": [
    "# Komogorov-Smirnov Test\n",
    "\n",
    "+ The KS test can be accessed via the scipy library: `scipy.stats.kstest`\n",
    "+ This function can be used to perform two sample tests.\n",
    "+ The null hypothesis is that the two distributions are identical."
   ]
  },
  {
   "cell_type": "code",
   "execution_count": 10,
   "metadata": {},
   "outputs": [
    {
     "data": {
      "text/plain": [
       "KstestResult(statistic=0.034314065596832595, pvalue=0.13480604903839485, statistic_location=0.013485812569593802, statistic_sign=-1)"
      ]
     },
     "execution_count": 10,
     "metadata": {},
     "output_type": "execute_result"
    }
   ],
   "source": [
    "from scipy.stats import kstest\n",
    "\n",
    "kstest(df_2018['returns'].dropna(), \n",
    "       df_2019['returns'].dropna())"
   ]
  },
  {
   "cell_type": "code",
   "execution_count": 11,
   "metadata": {},
   "outputs": [
    {
     "data": {
      "text/plain": [
       "KstestResult(statistic=0.13064753191322345, pvalue=2.670261822755509e-17, statistic_location=0.013644776357206068, statistic_sign=1)"
      ]
     },
     "execution_count": 11,
     "metadata": {},
     "output_type": "execute_result"
    }
   ],
   "source": [
    "kstest(df_2019['returns'].dropna(), \n",
    "       df_2020['returns'].dropna())"
   ]
  },
  {
   "cell_type": "code",
   "execution_count": 12,
   "metadata": {},
   "outputs": [
    {
     "data": {
      "text/plain": [
       "KstestResult(statistic=0.1100472943535476, pvalue=2.0196636826634023e-12, statistic_location=0.01143078433526279, statistic_sign=-1)"
      ]
     },
     "execution_count": 12,
     "metadata": {},
     "output_type": "execute_result"
    }
   ],
   "source": [
    "kstest(df_2020['returns'].dropna(), \n",
    "       df_2021['returns'].dropna())"
   ]
  },
  {
   "cell_type": "code",
   "execution_count": 13,
   "metadata": {},
   "outputs": [
    {
     "data": {
      "text/plain": [
       "KstestResult(statistic=0.0940567987164211, pvalue=3.4449944295519247e-09, statistic_location=-0.007372480262691217, statistic_sign=-1)"
      ]
     },
     "execution_count": 13,
     "metadata": {},
     "output_type": "execute_result"
    }
   ],
   "source": [
    "kstest(df_2021['returns'].dropna(), \n",
    "       df_2022['returns'].dropna())"
   ]
  }
 ],
 "metadata": {
  "kernelspec": {
   "display_name": "env",
   "language": "python",
   "name": "python3"
  },
  "language_info": {
   "codemirror_mode": {
    "name": "ipython",
    "version": 3
   },
   "file_extension": ".py",
   "mimetype": "text/x-python",
   "name": "python",
   "nbconvert_exporter": "python",
   "pygments_lexer": "ipython3",
   "version": "3.9.15"
  }
 },
 "nbformat": 4,
 "nbformat_minor": 2
}
